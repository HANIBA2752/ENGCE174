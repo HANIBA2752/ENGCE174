{
  "nbformat": 4,
  "nbformat_minor": 0,
  "metadata": {
    "colab": {
      "provenance": [],
      "authorship_tag": "ABX9TyM35a1dptBS+eukDDtXwjQI",
      "include_colab_link": true
    },
    "kernelspec": {
      "name": "python3",
      "display_name": "Python 3"
    },
    "language_info": {
      "name": "python"
    }
  },
  "cells": [
    {
      "cell_type": "markdown",
      "metadata": {
        "id": "view-in-github",
        "colab_type": "text"
      },
      "source": [
        "<a href=\"https://colab.research.google.com/github/HANIBA2752/ENGCE174/blob/main/LAB1.ipynb\" target=\"_parent\"><img src=\"https://colab.research.google.com/assets/colab-badge.svg\" alt=\"Open In Colab\"/></a>"
      ]
    },
    {
      "cell_type": "code",
      "source": [
        "#List comprehension\n",
        "squares = [x**2 for x in range(10)]\n",
        "\n",
        "#Dictionary comprehension\n",
        "square_dict = {x: x**2 for x in range(5)}\n",
        "\n",
        "#Set comprehension\n",
        "even_squares = {x**2 for x in range(10) if x % 2 == 0}"
      ],
      "metadata": {
        "id": "g58rbldmswl2"
      },
      "execution_count": 4,
      "outputs": []
    },
    {
      "cell_type": "code",
      "source": [
        "square = lambda x: x**2\n",
        "print(square(5))  #Output: 25"
      ],
      "metadata": {
        "colab": {
          "base_uri": "https://localhost:8080/"
        },
        "id": "7fzkMC8Jv_MG",
        "outputId": "64109fef-d16c-4fbb-ebfe-191047a1a146"
      },
      "execution_count": 5,
      "outputs": [
        {
          "output_type": "stream",
          "name": "stdout",
          "text": [
            "25\n"
          ]
        }
      ]
    },
    {
      "cell_type": "code",
      "source": [
        "def fibonacci():\n",
        "    a, b = 0, 1\n",
        "    while True:\n",
        "        yield a\n",
        "        a,b = b, a + b\n",
        "\n",
        "fib = fibonacci()\n",
        "print(next(fib))  #Output: 0\n",
        "print(next(fib))  #Output: 1"
      ],
      "metadata": {
        "colab": {
          "base_uri": "https://localhost:8080/"
        },
        "id": "JTXVfv76wQS_",
        "outputId": "ed175728-7761-4d5c-f304-cc49659994db"
      },
      "execution_count": 6,
      "outputs": [
        {
          "output_type": "stream",
          "name": "stdout",
          "text": [
            "0\n",
            "1\n"
          ]
        }
      ]
    },
    {
      "cell_type": "code",
      "source": [
        "# List initialization\n",
        "number = [1, 2, 3, 4, 5]\n",
        "\n",
        "#Accessing elements\n",
        "print(\"First element:\", number[0])  # Output: 1\n",
        "print(\"Last element:\", number[-1])  # Output: 5\n",
        "\n",
        "#Slicing\n",
        "print(\"Sliced elements:\", number[2:4])  # Output: [3, 4]\n",
        "\n",
        "# Appending anf extending\n",
        "number.append(6)\n",
        "print(\"After append:\", number)  # Output: [1, 2, 3, 4, 5, 6]\n",
        "\n",
        "#Removeing elements\n",
        "number.remove(3)\n",
        "print(\"After removal:\", number) # Output: [1, 2, 3, 4, 5, 6]"
      ],
      "metadata": {
        "colab": {
          "base_uri": "https://localhost:8080/"
        },
        "id": "rg5ItNnAxIxd",
        "outputId": "de5708e8-8da7-4760-c532-f883f518ac4a"
      },
      "execution_count": 10,
      "outputs": [
        {
          "output_type": "stream",
          "name": "stdout",
          "text": [
            "First element: 1\n",
            "Last element: 5\n",
            "Sliced elements: [3, 4]\n",
            "After append: [1, 2, 3, 4, 5, 6]\n",
            "After removal: [1, 2, 4, 5, 6]\n"
          ]
        }
      ]
    },
    {
      "cell_type": "code",
      "source": [
        "# List comprehension to create a list of squares of even numbers\n",
        "even_numbers = [x for x in range(10) if x % 2 == 0]\n",
        "squares = [num**2 for num in even_numbers]\n",
        "print(\"Squares of even numbers:\", squares)  #Output: [0, 4, 16, 36, 64]"
      ],
      "metadata": {
        "colab": {
          "base_uri": "https://localhost:8080/"
        },
        "id": "S4GPi5FKyhc4",
        "outputId": "d8467eb8-29a5-4922-e5cc-1620e5f2a764"
      },
      "execution_count": 11,
      "outputs": [
        {
          "output_type": "stream",
          "name": "stdout",
          "text": [
            "Squares of even numbers: [0, 4, 16, 36, 64]\n"
          ]
        }
      ]
    },
    {
      "cell_type": "code",
      "source": [
        "names = [\"Alice\", \"Bob\", \"Charlie\"]\n",
        "ages = [25, 30, 35]\n",
        "city = [\"New York\", \"Los Angeles\", \"Chicago\"]\n",
        "\n",
        "for name, age,city in zip(names, ages, city):\n",
        "    print(f\"{name} is {age} years old and lives in {city}\")"
      ],
      "metadata": {
        "colab": {
          "base_uri": "https://localhost:8080/"
        },
        "id": "AU_W-DW4zHKo",
        "outputId": "20bb8a86-305e-434d-bcbb-a0a29754a7e3"
      },
      "execution_count": 12,
      "outputs": [
        {
          "output_type": "stream",
          "name": "stdout",
          "text": [
            "Alice is 25 years old and lives in New York\n",
            "Bob is 30 years old and lives in Los Angeles\n",
            "Charlie is 35 years old and lives in Chicago\n"
          ]
        }
      ]
    },
    {
      "cell_type": "code",
      "source": [
        "# Tuple initialization\n",
        "coordinates = (3, 5)\n",
        "\n",
        "x, y = coordinates\n",
        "print(\"x-coordinate:\", x) # Output: 3\n",
        "print(\"y-coordinate:\", y) # Output: 5\n",
        "\n",
        "location = {(3, 5): \"Home\", (10, 20): \"Office\"}\n",
        "print(\"Location at (3, 5):\", location[(3, 5)])  # Output: Home"
      ],
      "metadata": {
        "colab": {
          "base_uri": "https://localhost:8080/"
        },
        "id": "1rB2La3i0CrO",
        "outputId": "4a0b0468-9893-496b-9299-273cc841d90a"
      },
      "execution_count": 13,
      "outputs": [
        {
          "output_type": "stream",
          "name": "stdout",
          "text": [
            "x-coordinate: 3\n",
            "y-coordinate: 5\n",
            "Location at (3, 5): Home\n"
          ]
        }
      ]
    },
    {
      "cell_type": "code",
      "source": [
        "from collections import namedtuple\n",
        "\n",
        "Point = namedtuple('Point', ['x', 'y'])\n",
        "\n",
        "p1 = Point(3, 5)\n",
        "p2 = Point(-1, 2)\n",
        "\n",
        "print(\"Coordinates of p1:\", p1.x, p1.y)"
      ],
      "metadata": {
        "colab": {
          "base_uri": "https://localhost:8080/"
        },
        "id": "QWDc8s_M1VbG",
        "outputId": "0ee7edd5-e460-4579-d577-d5da44c4c0e9"
      },
      "execution_count": 15,
      "outputs": [
        {
          "output_type": "stream",
          "name": "stdout",
          "text": [
            "Coordinates of p1: 3 5\n"
          ]
        }
      ]
    },
    {
      "cell_type": "code",
      "source": [
        "coordinates = (3, 5)"
      ],
      "metadata": {
        "id": "b-t0QO3R3Hto"
      },
      "execution_count": 16,
      "outputs": []
    },
    {
      "cell_type": "code",
      "source": [
        "# Dictionary initialization\n",
        "person = {'name': 'Alice', 'age': 30, 'city': 'New York'}\n",
        "\n",
        "print(\"Name:\", person['name'])\n",
        "\n",
        "person['age'] = 31\n",
        "print(\"Updated age:\", person['age'])\n",
        "\n",
        "for key, value in person.items():\n",
        "    print(f\"{key}: {value}\")"
      ],
      "metadata": {
        "colab": {
          "base_uri": "https://localhost:8080/"
        },
        "id": "7FD3LO6i3U1f",
        "outputId": "4bab2fdf-a90f-47a5-8596-d3630db0d82d"
      },
      "execution_count": 17,
      "outputs": [
        {
          "output_type": "stream",
          "name": "stdout",
          "text": [
            "Name: Alice\n",
            "Updated age: 31\n",
            "name: Alice\n",
            "age: 31\n",
            "city: New York\n"
          ]
        }
      ]
    },
    {
      "cell_type": "code",
      "source": [
        "# Dictionary comprehension to create a dictionary of squares\n",
        "number = [1, 2, 3, 4, 5]\n",
        "square_dict = {num: num**2 for num in number}\n",
        "print(\"Dictionary of squares:\", square_dict)"
      ],
      "metadata": {
        "colab": {
          "base_uri": "https://localhost:8080/"
        },
        "id": "V6VtFSJ_4OF-",
        "outputId": "bc4d601a-1e0c-4cc7-ef82-10a42dc681c8"
      },
      "execution_count": 20,
      "outputs": [
        {
          "output_type": "stream",
          "name": "stdout",
          "text": [
            "Dictionary of squares: {1: 1, 2: 4, 3: 9, 4: 16, 5: 25}\n"
          ]
        }
      ]
    },
    {
      "cell_type": "code",
      "source": [
        "person = {'name': 'Alice', 'age':30}\n",
        "\n",
        "# Using get() method to handle missing keys\n",
        "city = person.get('city', 'Unknow')\n",
        "print(\"City;\", city)"
      ],
      "metadata": {
        "colab": {
          "base_uri": "https://localhost:8080/"
        },
        "id": "kzg4WEwH473y",
        "outputId": "01e05729-dedd-4005-cc82-2c080171201b"
      },
      "execution_count": 23,
      "outputs": [
        {
          "output_type": "stream",
          "name": "stdout",
          "text": [
            "City; Unknow\n"
          ]
        }
      ]
    },
    {
      "cell_type": "code",
      "source": [
        "#Dictionary of lists: Mapping cities to their temperatures\n",
        "cities = {\n",
        "    'New York': [32, 25, 30, 28, 35],\n",
        "    'Los Angeles': [75, 68, 72, 70, 80],\n",
        "    'Chicago': [20, 18, 22, 25, 15]\n",
        "}\n",
        "\n",
        "averages = {city: sum(temp) / len(temp) for city, temp in cities.items()}\n",
        "print(\"Average temperatures:\", averages)"
      ],
      "metadata": {
        "colab": {
          "base_uri": "https://localhost:8080/"
        },
        "id": "-jH8pbVm5ieN",
        "outputId": "e71672d0-7f7a-45da-aff4-70760cdc3f11"
      },
      "execution_count": 28,
      "outputs": [
        {
          "output_type": "stream",
          "name": "stdout",
          "text": [
            "Average temperatures: {'New York': 30.0, 'Los Angeles': 73.0, 'Chicago': 20.0}\n"
          ]
        }
      ]
    }
  ]
}